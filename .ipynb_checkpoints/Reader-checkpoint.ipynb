{
 "cells": [
  {
   "cell_type": "markdown",
   "metadata": {},
   "source": [
    "# Importing necessary libraries"
   ]
  },
  {
   "cell_type": "code",
   "execution_count": null,
   "metadata": {},
   "outputs": [],
   "source": [
    "import PyPDF2 as pdf2\n",
    "import pyttsx3 as pyt\n",
    "import os\n",
    "from pygame import mixer"
   ]
  },
  {
   "cell_type": "markdown",
   "metadata": {},
   "source": [
    "## Getting pdfs of Books"
   ]
  },
  {
   "cell_type": "code",
   "execution_count": null,
   "metadata": {},
   "outputs": [],
   "source": [
    "books = {}\n",
    "i = int(1)\n",
    "\n",
    "try:\n",
    "    for file in os.scandir(\"./books/\"):\n",
    "        if file.is_file():\n",
    "            books[i] = file\n",
    "            i += 1\n",
    "except PermissionError:\n",
    "    print(f\"Permission denied to access the directory {file}\")\n",
    "except OSError as e:\n",
    "    print(f\"An OS error occurred: {e}\")"
   ]
  },
  {
   "cell_type": "markdown",
   "metadata": {},
   "source": [
    "## Choosing Book"
   ]
  },
  {
   "cell_type": "code",
   "execution_count": null,
   "metadata": {},
   "outputs": [],
   "source": [
    "for i in range(1,len(books)+1,1):\n",
    "    print(f\"{i}\", books[i].name)"
   ]
  },
  {
   "cell_type": "code",
   "execution_count": null,
   "metadata": {},
   "outputs": [],
   "source": [
    "book = int(input(\"Enter the book number : \"))\n",
    "book = books[book].name\n",
    "pdf_file = open(os.path.join(\"./books\",book),'rb')"
   ]
  },
  {
   "cell_type": "markdown",
   "metadata": {},
   "source": [
    "## Extracting text from pdf"
   ]
  },
  {
   "cell_type": "code",
   "execution_count": null,
   "metadata": {},
   "outputs": [],
   "source": [
    "reader = pdf2.PdfReader(pdf_file)\n",
    "text = ''\n",
    "\n",
    "for i in range(len(reader.pages)):\n",
    "    page = reader.pages[i]\n",
    "    text += ' '\n",
    "    text += page.extract_text()"
   ]
  },
  {
   "cell_type": "markdown",
   "metadata": {},
   "source": [
    "## Setting up pyttsx2"
   ]
  },
  {
   "cell_type": "code",
   "execution_count": null,
   "metadata": {},
   "outputs": [],
   "source": [
    "speaker = pyt.init()"
   ]
  },
  {
   "cell_type": "code",
   "execution_count": null,
   "metadata": {},
   "outputs": [],
   "source": [
    "rate = int(input(\"Enter speech rate in 100's ( 150 recommended ) : \"))\n",
    "speaker.setProperty(\"rate\",rate)"
   ]
  },
  {
   "cell_type": "code",
   "execution_count": null,
   "metadata": {},
   "outputs": [],
   "source": [
    "voices = speaker.getProperty('voices')\n",
    "\n",
    "for i in range(len(voices)):\n",
    "    print(\"{}.  {}\".format(i+1,voices[i].id))\n",
    "    speaker.setProperty('voice',voices[i].id)\n",
    "    speaker.say(\"Hello world\")\n",
    "    speaker.runAndWait()\n",
    "    speaker.stop()"
   ]
  },
  {
   "cell_type": "code",
   "execution_count": null,
   "metadata": {},
   "outputs": [],
   "source": [
    "id = int(input(\"Enter voice id by number : \"))\n",
    "speaker.setProperty('voice',voices[id-1].id)\n",
    "\n",
    "gender = ''\n",
    "\n",
    "if id == 1:\n",
    "    gender = 'male'\n",
    "elif id == 2:\n",
    "    gender = 'female'"
   ]
  },
  {
   "cell_type": "markdown",
   "metadata": {},
   "source": [
    "## Generating audio file"
   ]
  },
  {
   "cell_type": "code",
   "execution_count": null,
   "metadata": {},
   "outputs": [],
   "source": [
    "name = book.strip(\".pdf\")\n",
    "name += f' {gender} {rate}'\n",
    "\n",
    "path = os.path.join('./audios/', name + '.wav')\n",
    "if not os.path.isfile(path):\n",
    "    speaker.save_to_file(text, f'./audios/{name}.wav')\n",
    "    speaker.runAndWait()"
   ]
  },
  {
   "cell_type": "markdown",
   "metadata": {},
   "source": [
    "## Playing the audio file"
   ]
  },
  {
   "cell_type": "code",
   "execution_count": null,
   "metadata": {},
   "outputs": [],
   "source": [
    "mixer.init()\n",
    "mixer.music.load(f'./audios/{name}.wav')"
   ]
  },
  {
   "cell_type": "code",
   "execution_count": null,
   "metadata": {},
   "outputs": [],
   "source": [
    "mixer.music.play()\n",
    "\n",
    "print(\"Press 'p' to pause, 'r' to resume\")\n",
    "print(\"Press 'e' to quit the speech\")\n",
    "\n",
    "while True:\n",
    "    q = input()\n",
    "    if q == \"p\":\n",
    "        mixer.music.pause()\n",
    "    if q == \"r\":\n",
    "        mixer.music.unpause()\n",
    "    if q == \"e\":\n",
    "        mixer.music.stop()\n",
    "        break"
   ]
  },
  {
   "cell_type": "code",
   "execution_count": null,
   "metadata": {},
   "outputs": [],
   "source": []
  }
 ],
 "metadata": {
  "kernelspec": {
   "display_name": "Python 3 (ipykernel)",
   "language": "python",
   "name": "python3"
  },
  "language_info": {
   "codemirror_mode": {
    "name": "ipython",
    "version": 3
   },
   "file_extension": ".py",
   "mimetype": "text/x-python",
   "name": "python",
   "nbconvert_exporter": "python",
   "pygments_lexer": "ipython3",
   "version": "3.10.9"
  }
 },
 "nbformat": 4,
 "nbformat_minor": 2
}
